{
 "cells": [
  {
   "cell_type": "code",
   "execution_count": 1,
   "id": "ae758428",
   "metadata": {},
   "outputs": [
    {
     "ename": "ModuleNotFoundError",
     "evalue": "No module named 'vcdvcd'",
     "output_type": "error",
     "traceback": [
      "\u001b[0;31m---------------------------------------------------------------------------\u001b[0m",
      "\u001b[0;31mModuleNotFoundError\u001b[0m                       Traceback (most recent call last)",
      "Cell \u001b[0;32mIn[1], line 2\u001b[0m\n\u001b[1;32m      1\u001b[0m \u001b[38;5;28;01mimport\u001b[39;00m \u001b[38;5;21;01mmatplotlib\u001b[39;00m\u001b[38;5;21;01m.\u001b[39;00m\u001b[38;5;21;01mpyplot\u001b[39;00m \u001b[38;5;28;01mas\u001b[39;00m \u001b[38;5;21;01mplt\u001b[39;00m\n\u001b[0;32m----> 2\u001b[0m \u001b[38;5;28;01mimport\u001b[39;00m \u001b[38;5;21;01mvcdvcd\u001b[39;00m\n\u001b[1;32m      4\u001b[0m \u001b[38;5;66;03m# Load and parse the VCD file\u001b[39;00m\n\u001b[1;32m      5\u001b[0m vcd_path \u001b[38;5;241m=\u001b[39m \u001b[38;5;124m\"\u001b[39m\u001b[38;5;124m/mnt/data/i2c.vcd\u001b[39m\u001b[38;5;124m\"\u001b[39m\n",
      "\u001b[0;31mModuleNotFoundError\u001b[0m: No module named 'vcdvcd'"
     ]
    }
   ],
   "source": [
    "import matplotlib.pyplot as plt\n",
    "import vcdvcd\n",
    "\n",
    "# Load and parse the VCD file\n",
    "vcd_path = \"/mnt/data/i2c.vcd\"\n",
    "vcd = vcdvcd.VCDVCD(vcd_path, signals=None, store_tvs=True)\n",
    "\n",
    "# Extract signals from the VCD\n",
    "signals = list(vcd.data.keys())\n",
    "signals_to_plot = signals[:4]  # Select a few signals to visualize\n",
    "\n",
    "# Plot signal waveforms\n",
    "plt.figure(figsize=(12, 6))\n",
    "for i, signal in enumerate(signals_to_plot):\n",
    "    tvs = vcd.data[signal]['tv']\n",
    "    times = [tv[0] for tv in tvs]\n",
    "    values = [int(tv[1]) for tv in tvs]\n",
    "    plt.step(times, [v + 2*i for v in values], where='post', label=signal)\n",
    "\n",
    "plt.yticks(range(0, 2*len(signals_to_plot), 2), [sig.split(' ')[-1] for sig in signals_to_plot])\n",
    "plt.xlabel(\"Time (ns)\")\n",
    "plt.ylabel(\"Signal\")\n",
    "plt.title(\"Waveform for Selected I2C Signals\")\n",
    "plt.legend()\n",
    "plt.grid(True)\n",
    "plt.tight_layout()\n",
    "plt.show()\n"
   ]
  },
  {
   "cell_type": "code",
   "execution_count": null,
   "id": "c7d85c1a",
   "metadata": {},
   "outputs": [],
   "source": [
    "# Manually parse basic VCD signals for waveform visualization\n",
    "def parse_vcd_signals(file_path, signal_names, max_time_ns=2000):\n",
    "    with open(file_path, 'r') as f:\n",
    "        lines = f.readlines()\n",
    "\n",
    "    signal_map = {}\n",
    "    in_dumpvars = False\n",
    "    for line in lines:\n",
    "        if line.startswith(\"$var\"):\n",
    "            parts = line.strip().split()\n",
    "            symbol = parts[3]\n",
    "            name = parts[4]\n",
    "            if name in signal_names:\n",
    "                signal_map[symbol] = {'name': name, 'values': []}\n",
    "        if line.startswith(\"$dumpvars\"):\n",
    "            in_dumpvars = True\n",
    "        elif line.startswith(\"$enddefinitions\"):\n",
    "            break\n",
    "\n",
    "    current_time = 0\n",
    "    for line in lines:\n",
    "        if line.startswith('#'):\n",
    "            current_time = int(line[1:])\n",
    "            if current_time > max_time_ns:\n",
    "                break\n",
    "        elif line and line[0] in '01':\n",
    "            val = int(line[0])\n",
    "            sym = line[1:].strip()\n",
    "            if sym in signal_map:\n",
    "                signal_map[sym]['values'].append((current_time, val))\n",
    "\n",
    "    return signal_map\n",
    "\n",
    "# Parse signals of interest\n",
    "signal_names = ['clk', 'rst', 'scl', 'sda']\n",
    "vcd_signals = parse_vcd_signals(\"/mnt/data/i2c.vcd\", signal_names)\n",
    "\n",
    "# Plot the waveform\n",
    "plt.figure(figsize=(12, 6))\n",
    "for idx, (symbol, signal_data) in enumerate(vcd_signals.items()):\n",
    "    times, values = zip(*signal_data['values'])\n",
    "    shifted_values = [v + 2 * idx for v in values]\n",
    "    plt.step(times, shifted_values, where='post', label=signal_data['name'])\n",
    "\n",
    "plt.yticks([2 * i for i in range(len(vcd_signals))], [data['name'] for data in vcd_signals.values()])\n",
    "plt.xlabel(\"Time (ns)\")\n",
    "plt.ylabel(\"Signal Level\")\n",
    "plt.title(\"I2C Waveform Visualization\")\n",
    "plt.grid(True)\n",
    "plt.legend()\n",
    "plt.tight_layout()\n",
    "plt.show()\n"
   ]
  }
 ],
 "metadata": {
  "kernelspec": {
   "display_name": "Python 3",
   "language": "python",
   "name": "python3"
  },
  "language_info": {
   "codemirror_mode": {
    "name": "ipython",
    "version": 3
   },
   "file_extension": ".py",
   "mimetype": "text/x-python",
   "name": "python",
   "nbconvert_exporter": "python",
   "pygments_lexer": "ipython3",
   "version": "3.11.3"
  }
 },
 "nbformat": 4,
 "nbformat_minor": 5
}
